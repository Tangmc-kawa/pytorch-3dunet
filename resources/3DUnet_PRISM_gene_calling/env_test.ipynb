{
 "cells": [
  {
   "cell_type": "code",
   "execution_count": 3,
   "metadata": {},
   "outputs": [
    {
     "name": "stdout",
     "output_type": "stream",
     "text": [
      "Using device: cuda\n",
      "Training loss: 0.4711090922355652\n",
      "Predicted class: 1\n"
     ]
    }
   ],
   "source": [
    "import torch\n",
    "import torch.nn as nn\n",
    "import torch.optim as optim\n",
    "\n",
    "# 检查是否可以使用 GPU\n",
    "device = torch.device(\"cuda\" if torch.cuda.is_available() else \"cpu\")\n",
    "print(\"Using device:\", device)\n",
    "\n",
    "# 定义一个简单的神经网络模型\n",
    "class SimpleNet(nn.Module):\n",
    "    def __init__(self):\n",
    "        super(SimpleNet, self).__init__()\n",
    "        self.fc1 = nn.Linear(10, 5)  # 输入层到隐藏层\n",
    "        self.fc2 = nn.Linear(5, 2)   # 隐藏层到输出层\n",
    "\n",
    "    def forward(self, x):\n",
    "        x = torch.relu(self.fc1(x))\n",
    "        x = self.fc2(x)\n",
    "        return x\n",
    "\n",
    "# 实例化模型并移动到合适的设备上\n",
    "model = SimpleNet().to(device)\n",
    "\n",
    "# 定义损失函数和优化器\n",
    "criterion = nn.CrossEntropyLoss()\n",
    "optimizer = optim.SGD(model.parameters(), lr=0.01)\n",
    "\n",
    "# 生成一些随机数据进行训练\n",
    "inputs = torch.randn(1, 10).to(device)\n",
    "targets = torch.randint(0, 2, (1,)).to(device)\n",
    "\n",
    "# 训练模式\n",
    "model.train()\n",
    "\n",
    "# 前向传播\n",
    "outputs = model(inputs)\n",
    "\n",
    "# 计算损失 - 注意这里直接使用 targets 而不是 torch.unsqueeze(targets, 0)\n",
    "loss = criterion(outputs, targets)\n",
    "\n",
    "# 反向传播和优化\n",
    "optimizer.zero_grad()\n",
    "loss.backward()\n",
    "optimizer.step()\n",
    "\n",
    "print(\"Training loss:\", loss.item())\n",
    "\n",
    "# 简单的预测示例\n",
    "model.eval()  # 设置模型到评估模式\n",
    "with torch.no_grad():  # 在这个with语句下，所有计算都不会构建计算图\n",
    "    predictions = model(inputs)\n",
    "    predicted_class = predictions.argmax(dim=1)\n",
    "    print(\"Predicted class:\", predicted_class.item())"
   ]
  }
 ],
 "metadata": {
  "kernelspec": {
   "display_name": "pytorch-3dunet",
   "language": "python",
   "name": "python3"
  },
  "language_info": {
   "codemirror_mode": {
    "name": "ipython",
    "version": 3
   },
   "file_extension": ".py",
   "mimetype": "text/x-python",
   "name": "python",
   "nbconvert_exporter": "python",
   "pygments_lexer": "ipython3",
   "version": "3.12.2"
  }
 },
 "nbformat": 4,
 "nbformat_minor": 2
}
